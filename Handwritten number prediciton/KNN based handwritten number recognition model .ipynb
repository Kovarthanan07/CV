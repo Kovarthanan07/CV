{
 "cells": [
  {
   "cell_type": "markdown",
   "id": "d46d0798",
   "metadata": {},
   "source": [
    "----------------------------------------------------\n",
    "KNN based handwritten number recognition model \n",
    "-------------------------------"
   ]
  },
  {
   "cell_type": "markdown",
   "id": "f59ce000",
   "metadata": {},
   "source": [
    "---------------------------\n",
    "importing needed libraries\n"
   ]
  },
  {
   "cell_type": "code",
   "execution_count": 1,
   "id": "92aa6b8c",
   "metadata": {},
   "outputs": [],
   "source": [
    "import numpy as np                  \n",
    "import matplotlib.pyplot as plt   \n",
    "import cv2 \n",
    "import random  \n",
    "from keras.datasets import mnist \n",
    "from sklearn.neighbors import KNeighborsClassifier\n",
    "from sklearn.metrics import confusion_matrix, accuracy_score\n",
    "from numpy import asarray"
   ]
  },
  {
   "cell_type": "markdown",
   "id": "a4d9f9de",
   "metadata": {},
   "source": [
    "------------\n",
    "Loading dataset"
   ]
  },
  {
   "cell_type": "code",
   "execution_count": 2,
   "id": "3f840f18",
   "metadata": {
    "scrolled": true
   },
   "outputs": [
    {
     "name": "stdout",
     "output_type": "stream",
     "text": [
      "X_train shape (60000, 28, 28)\n",
      "y_train shape (60000,)\n",
      "X_test shape (10000, 28, 28)\n",
      "y_test shape (10000,)\n"
     ]
    }
   ],
   "source": [
    "(X_train, y_train), (X_test, y_test) = mnist.load_data()\n",
    "\n",
    "print(\"X_train shape\", X_train.shape)\n",
    "print(\"y_train shape\", y_train.shape)\n",
    "print(\"X_test shape\", X_test.shape)\n",
    "print(\"y_test shape\", y_test.shape)"
   ]
  },
  {
   "cell_type": "markdown",
   "id": "008b00ef",
   "metadata": {},
   "source": [
    "-------------------------\n",
    "Visualize the data"
   ]
  },
  {
   "cell_type": "code",
   "execution_count": 3,
   "id": "d48476f1",
   "metadata": {},
   "outputs": [
    {
     "data": {
      "image/png": "[encoded data removed]",
      "text/plain": [
       "<Figure size 864x576 with 9 Axes>"
      ]
     },
     "metadata": {
      "needs_background": "light"
     },
     "output_type": "display_data"
    }
   ],
   "source": [
    "plt.figure(figsize=(12, 8))\n",
    "for i in range(9):\n",
    "    ax = plt.subplot(3, 3, i + 1)\n",
    "    ax.imshow(X_train[i], cmap=\"gray\")\n",
    "    plt.axis(\"off\")\n",
    "\n",
    "plt.show()"
   ]
  },
  {
   "cell_type": "code",
   "execution_count": 4,
   "id": "811eda77",
   "metadata": {},
   "outputs": [
    {
     "name": "stdout",
     "output_type": "stream",
     "text": [
      "Index:  32867\n",
      "Training Set: \n",
      "Label: 0\n"
     ]
    },
    {
     "data": {
      "image/png": "[encoded data removed]",
      "text/plain": [
       "<Figure size 432x288 with 1 Axes>"
      ]
     },
     "metadata": {
      "needs_background": "light"
     },
     "output_type": "display_data"
    }
   ],
   "source": [
    "#train dataset visualization\n",
    "index = random.randint(0, 60000)\n",
    "print('Index: ', index)\n",
    "print('Training Set: ')\n",
    "print('Label:', y_train[index])\n",
    "img = np.asarray(X_train[index])\n",
    "plt.imshow(img)\n",
    "plt.show()"
   ]
  },
  {
   "cell_type": "code",
   "execution_count": 5,
   "id": "dc845d30",
   "metadata": {},
   "outputs": [
    {
     "name": "stdout",
     "output_type": "stream",
     "text": [
      "Index:  5461\n",
      "Training Set: \n",
      "Label: 1\n"
     ]
    },
    {
     "data": {
      "image/png": "[encoded data removed]",
      "text/plain": [
       "<Figure size 432x288 with 1 Axes>"
      ]
     },
     "metadata": {
      "needs_background": "light"
     },
     "output_type": "display_data"
    }
   ],
   "source": [
    "#test dataset visualization\n",
    "index = random.randint(0, 10000)\n",
    "print('Index: ', index)\n",
    "print('Training Set: ')\n",
    "print('Label:', y_test[index])\n",
    "img = np.asarray(X_test[index])\n",
    "plt.imshow(img)\n",
    "plt.show()"
   ]
  },
  {
   "cell_type": "markdown",
   "id": "504a6223",
   "metadata": {},
   "source": [
    "-------------------------\n",
    "Tuning KNN model"
   ]
  },
  {
   "cell_type": "code",
   "execution_count": 6,
   "id": "1094d825",
   "metadata": {},
   "outputs": [
    {
     "name": "stdout",
     "output_type": "stream",
     "text": [
      "When KNN with n_neighbors = 1\n",
      "Accuracy:  0.9691\n",
      "---------------\n",
      "When KNN with n_neighbors = 2\n",
      "Accuracy:  0.9627\n",
      "---------------\n",
      "When KNN with n_neighbors = 3\n",
      "Accuracy:  0.9705\n",
      "---------------\n",
      "When KNN with n_neighbors = 4\n",
      "Accuracy:  0.9682\n",
      "---------------\n",
      "When KNN with n_neighbors = 5\n",
      "Accuracy:  0.9688\n",
      "---------------\n",
      "When KNN with n_neighbors = 6\n",
      "Accuracy:  0.9677\n",
      "---------------\n",
      "When KNN with n_neighbors = 7\n",
      "Accuracy:  0.9694\n",
      "---------------\n",
      "When KNN with n_neighbors = 8\n",
      "Accuracy:  0.967\n",
      "---------------\n"
     ]
    }
   ],
   "source": [
    "score = []\n",
    "for k in range(1, 9):\n",
    "  print('When KNN with n_neighbors =',k)\n",
    "  classifier = KNeighborsClassifier(n_neighbors=k)\n",
    "  classifier = classifier.fit(X_train.reshape(X_train.shape[0], 28*28), y_train)\n",
    "  pred = classifier.predict(X_test.reshape(X_test.shape[0], 28*28))\n",
    "  accuracy = accuracy_score(y_test, pred)\n",
    "  score.append(accuracy)\n",
    "  print(\"Accuracy: \",accuracy)\n",
    "  print(\"---------------\")"
   ]
  },
  {
   "cell_type": "markdown",
   "id": "0e08e006",
   "metadata": {},
   "source": [
    "------------------------------\n",
    "visualize the effect of n_neighbors"
   ]
  },
  {
   "cell_type": "code",
   "execution_count": 7,
   "id": "be5dbd3c",
   "metadata": {},
   "outputs": [
    {
     "data": {
      "image/png": "[encoded data removed]",
      "text/plain": [
       "<Figure size 432x288 with 1 Axes>"
      ]
     },
     "metadata": {
      "needs_background": "light"
     },
     "output_type": "display_data"
    }
   ],
   "source": [
    "plt.plot(range(1,9), score)\n",
    "plt.title('n_neighbors vs accuracy')\n",
    "plt.xlabel('n_neighbors')\n",
    "plt.ylabel('Accuracy')\n",
    "plt.show()"
   ]
  },
  {
   "cell_type": "markdown",
   "id": "311bc10f",
   "metadata": {},
   "source": [
    "----------------\n",
    "Train our final KNN Model with n_neighbors=3"
   ]
  },
  {
   "cell_type": "code",
   "execution_count": 8,
   "id": "47830c19",
   "metadata": {},
   "outputs": [],
   "source": [
    "# Create KNN model and Training \n",
    "classifier = KNeighborsClassifier(n_neighbors = 3)\n",
    "classifier = classifier.fit(X_train.reshape(X_train.shape[0], 28*28), y_train)"
   ]
  },
  {
   "cell_type": "markdown",
   "id": "6c005d59",
   "metadata": {},
   "source": [
    "--------------------------\n",
    "Testing Model "
   ]
  },
  {
   "cell_type": "code",
   "execution_count": 9,
   "id": "ace3b8ab",
   "metadata": {},
   "outputs": [],
   "source": [
    "# Prediction using test dataset \n",
    "y_pred = classifier.predict(X_test.reshape(X_test.shape[0], 28*28))"
   ]
  },
  {
   "cell_type": "code",
   "execution_count": 10,
   "id": "4d380215",
   "metadata": {},
   "outputs": [
    {
     "name": "stdout",
     "output_type": "stream",
     "text": [
      "Final Accuracy : 0.9705\n",
      "-----------------------\n",
      "Confusion Matrix : \n",
      "[[ 974    1    1    0    0    1    2    1    0    0]\n",
      " [   0 1133    2    0    0    0    0    0    0    0]\n",
      " [  10    9  996    2    0    0    0   13    2    0]\n",
      " [   0    2    4  976    1   13    1    7    3    3]\n",
      " [   1    6    0    0  950    0    4    2    0   19]\n",
      " [   6    1    0   11    2  859    5    1    3    4]\n",
      " [   5    3    0    0    3    3  944    0    0    0]\n",
      " [   0   21    5    0    1    0    0  991    0   10]\n",
      " [   8    2    4   16    8   11    3    4  914    4]\n",
      " [   4    5    2    8    9    2    1    8    2  968]]\n"
     ]
    }
   ],
   "source": [
    "# Final Accuracy and Confusion Matrix\n",
    "print(\"Final Accuracy : {}\".format(accuracy_score(y_test, y_pred)))\n",
    "print(\"-----------------------\")\n",
    "print(\"Confusion Matrix : \")\n",
    "print(confusion_matrix(y_test, y_pred))"
   ]
  },
  {
   "cell_type": "markdown",
   "id": "9fb7e2a4",
   "metadata": {},
   "source": [
    "----------------------\n",
    "testing with manual input"
   ]
  },
  {
   "cell_type": "code",
   "execution_count": 18,
   "id": "af73e735",
   "metadata": {},
   "outputs": [],
   "source": [
    "def visualize_image(image, type):\n",
    "    if(type=='imported'):\n",
    "        plt.imshow(image, cmap='gray')\n",
    "        plt.title(\"imported image\")\n",
    "        plt.show()\n",
    "    elif(type=='formatted'):\n",
    "        plt.imshow(image)\n",
    "        plt.title(\"Formatted image based on MNIST\")\n",
    "        plt.show()\n",
    "    else:\n",
    "        print(\"Image Not Found ...\")"
   ]
  },
  {
   "cell_type": "code",
   "execution_count": 27,
   "id": "73b019a9",
   "metadata": {},
   "outputs": [],
   "source": [
    "def predict_manually(file):\n",
    "    input_image = cv2.imread(file, cv2.IMREAD_GRAYSCALE)\n",
    "    visualize_image(input_image, 'imported')\n",
    "    print(\"-----------------------------\")\n",
    "    manual_test_image = cv2.resize(input_image, (28, 28), interpolation=cv2.INTER_LINEAR)\n",
    "    manual_test_image = cv2.bitwise_not(manual_test_image)\n",
    "    visualize_image(manual_test_image, 'formatted')\n",
    "    print(\"-----------------------------\")\n",
    "    # Transform 2D ndarray to 3D ndarray\n",
    "    test_data = manual_test_image.reshape((1, 28, 28))\n",
    "    # Predict the manual input\n",
    "    input_predict = classifier.predict(test_data.reshape(test_data.shape[0], 28*28))\n",
    "    print(\"Predicted Value : {}\".format(input_predict[0]))"
   ]
  },
  {
   "cell_type": "code",
   "execution_count": 28,
   "id": "f91995ee",
   "metadata": {},
   "outputs": [
    {
     "data": {
      "image/png": "[encoded data removed]",
      "text/plain": [
       "<Figure size 432x288 with 1 Axes>"
      ]
     },
     "metadata": {
      "needs_background": "light"
     },
     "output_type": "display_data"
    },
    {
     "name": "stdout",
     "output_type": "stream",
     "text": [
      "-----------------------------\n"
     ]
    },
    {
     "data": {
      "image/png": "[encoded data removed]",
      "text/plain": [
       "<Figure size 432x288 with 1 Axes>"
      ]
     },
     "metadata": {
      "needs_background": "light"
     },
     "output_type": "display_data"
    },
    {
     "name": "stdout",
     "output_type": "stream",
     "text": [
      "-----------------------------\n",
      "Predicted Value : 8\n"
     ]
    }
   ],
   "source": [
    "# Enter correct path of the manual prediction image [JPG, JPEG, PNG]\n",
    "file = r'test8.png'\n",
    "predict_manually(file)"
   ]
  },
  {
   "cell_type": "code",
   "execution_count": null,
   "id": "5f1d4779",
   "metadata": {},
   "outputs": [],
   "source": []
  }
 ],
 "metadata": {
  "kernelspec": {
   "display_name": "Python 3 (ipykernel)",
   "language": "python",
   "name": "python3"
  },
  "language_info": {
   "codemirror_mode": {
    "name": "ipython",
    "version": 3
   },
   "file_extension": ".py",
   "mimetype": "text/x-python",
   "name": "python",
   "nbconvert_exporter": "python",
   "pygments_lexer": "ipython3",
   "version": "3.8.11"
  }
 },
 "nbformat": 4,
 "nbformat_minor": 5
}
